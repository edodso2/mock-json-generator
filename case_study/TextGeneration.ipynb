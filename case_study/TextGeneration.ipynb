{
 "cells": [
  {
   "cell_type": "markdown",
   "id": "b4614723-e45f-426e-a545-d0ed9685557d",
   "metadata": {},
   "source": [
    "# Text Generation\n",
    "\n",
    "Experimenting with a Text Generation Pipeline"
   ]
  },
  {
   "cell_type": "code",
   "execution_count": 1,
   "id": "b249c274-f0ab-43cb-9c44-b4de64045cac",
   "metadata": {},
   "outputs": [],
   "source": [
    "from transformers import pipeline"
   ]
  },
  {
   "cell_type": "code",
   "execution_count": 2,
   "id": "09955617-16bb-4d6e-8546-91549c3fe296",
   "metadata": {},
   "outputs": [
    {
     "data": {
      "application/vnd.jupyter.widget-view+json": {
       "model_id": "2bbb30f80b274ff0b8c50a075f0cdd73",
       "version_major": 2,
       "version_minor": 0
      },
      "text/plain": [
       "Loading checkpoint shards:   0%|          | 0/2 [00:00<?, ?it/s]"
      ]
     },
     "metadata": {},
     "output_type": "display_data"
    },
    {
     "name": "stderr",
     "output_type": "stream",
     "text": [
      "Some parameters are on the meta device because they were offloaded to the disk.\n",
      "Device set to use mps\n"
     ]
    }
   ],
   "source": [
    "# Use a pre-quantized model from the Hub\n",
    "pipe = pipeline(\n",
    "    \"text-generation\",\n",
    "    model=\"meta-llama/Llama-3.2-3B\",\n",
    "    device_map=\"auto\",\n",
    "    do_sample=True\n",
    ")"
   ]
  },
  {
   "cell_type": "code",
   "execution_count": 4,
   "id": "4e7f1608-b823-4cee-ad31-c9a9c5feae4d",
   "metadata": {},
   "outputs": [
    {
     "name": "stderr",
     "output_type": "stream",
     "text": [
      "Setting `pad_token_id` to `eos_token_id`:128001 for open-end generation.\n"
     ]
    },
    {
     "name": "stdout",
     "output_type": "stream",
     "text": [
      "first_name\n",
      "email\n",
      "phone\n"
     ]
    }
   ],
   "source": [
    "def get_faker_mapping(properties):\n",
    "    # Create a structured prompt\n",
    "    prompt = \"\"\"\n",
    "You are a data helper.\n",
    "\n",
    "Function Names:\n",
    "name\n",
    "first_name\n",
    "last_name\n",
    "email\n",
    "phone\n",
    "address\n",
    "city\n",
    "state\n",
    "zip_code\n",
    "country\n",
    "company\n",
    "job_title\n",
    "credit_card_number\n",
    "date_of_birth\n",
    "text\n",
    "random_number\n",
    "\n",
    "EXAMPLE 1:\n",
    "Properties:\n",
    "fullName: Full name of person\n",
    "businessEmail: Business email address\n",
    "phoneNum: US phone number\n",
    "\n",
    "Response:\n",
    "fullName: name\n",
    "businessEmail: email\n",
    "phoneNum: phone\n",
    "\n",
    "EXAMPLE 2:\n",
    "Properties:\n",
    "name: name of person\n",
    "ccn: Credit card number\n",
    "personalPhone: US phone number\n",
    "\n",
    "Response:\n",
    "name: name\n",
    "ccn: credit_card_number\n",
    "personalPhone: phone\n",
    "\n",
    "EXAMPLE 3:\n",
    "Properties:\n",
    "firstName: first name of person\n",
    "city: City of residence\n",
    "personalPhone: US phone number\n",
    "\n",
    "Response:\n",
    "firstName: first_name\n",
    "city: city\n",
    "personalPhone: phone\n",
    "\n",
    "Complete EXAMPLE 4:\n",
    "Properties:\n",
    "\"\"\"\n",
    "    # Add properties to prompt\n",
    "    for prop, desc in properties:\n",
    "        prompt += f\"{prop}: {desc}\\n\"\n",
    "    \n",
    "    prompt += \"\\nResponse:\"\n",
    "    \n",
    "    # Generate response\n",
    "    response = pipe(\n",
    "        prompt,\n",
    "        max_new_tokens=50\n",
    "    )\n",
    "    \n",
    "    result = response[0]['generated_text']\n",
    "    \n",
    "    # Logic to convert to a dict\n",
    "    response_text = result.split(\"Complete EXAMPLE 4:\")[1].split(\"Complete EXAMPLE 5:\")[0].split(\"Response:\")[1].strip()\n",
    "    \n",
    "    return {line.split(\":\", 1)[0].strip(): line.split(\":\", 1)[1].strip() for line in response_text.splitlines() if \":\" in line}\n",
    "    \n",
    "# Example use\n",
    "properties = [\n",
    "    (\"name\", \"users first name\"),\n",
    "    (\"email\", \"Business email address\"),\n",
    "    (\"phone\", \"US phone number\")\n",
    "]\n",
    "\n",
    "result = get_faker_mapping(properties)\n",
    "\n",
    "for key, desc in properties:\n",
    "    print(result.get(key))\n"
   ]
  }
 ],
 "metadata": {
  "kernelspec": {
   "display_name": "Python 3 (ipykernel)",
   "language": "python",
   "name": "python3"
  },
  "language_info": {
   "codemirror_mode": {
    "name": "ipython",
    "version": 3
   },
   "file_extension": ".py",
   "mimetype": "text/x-python",
   "name": "python",
   "nbconvert_exporter": "python",
   "pygments_lexer": "ipython3",
   "version": "3.11.11"
  }
 },
 "nbformat": 4,
 "nbformat_minor": 5
}
